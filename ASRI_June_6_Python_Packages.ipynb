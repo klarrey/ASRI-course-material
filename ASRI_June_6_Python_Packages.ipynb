{
  "nbformat": 4,
  "nbformat_minor": 0,
  "metadata": {
    "colab": {
      "provenance": []
    },
    "kernelspec": {
      "name": "python3",
      "display_name": "Python 3"
    },
    "language_info": {
      "name": "python"
    }
  },
  "cells": [
    {
      "cell_type": "markdown",
      "source": [
        "#Python Packages: What they are and how to use them\n",
        "\n",
        "I introduced the idea of packages this morning. There are a large number of packages that enable python to do a variety of things. We'll introduce some basic ideas today and then we'll take a deeper look at data analysis and data visualization tomorrow.\n",
        "\n",
        "Also for this one, I'm not going to use Google Slides or PowerPoint, I'll just do everything within Colab to keep things simpler.\n",
        "\n",
        "We'll start with how to do some plotting. We'll use Matplotlib.pyplot. The original purpose of the pyplot module was to make Matplotlib more accessbile to former MATLAB users.  There are other ways of using it, but it is the most common way.\n",
        "\n",
        "Parts of this Notebook are adapted from [Plot With Pandas: Python Data Visualization for Beginners](https://realpython.com/pandas-plot-python/#create-your-first-pandas-plot) by Reka Horvath.\n",
        "There is also material from other sources, but I have followed the structure of this web page, for the pandas useage.  I am focusing on the aspects that are most useful to ASRI participants.  This site is a good resource. We'll use the same data sets as the web-site.\n",
        "\n",
        "We'll do the direct downloads of data rather than putting them on our Google Drives.  This is a good way to get data into Google colab. I'll also show you how to use your Google Drive to read in downloaded data. I'll do it tdday if we have time, or tomorrow if we don't."
      ],
      "metadata": {
        "id": "arNW37QYxmd5"
      }
    },
    {
      "cell_type": "code",
      "source": [
        "#We'll begin by importing the pyplot module \n",
        "import matplotlib.pyplot as plt\n",
        "X = range(100)\n",
        "Y = [value ** 2 for value in X]\n",
        "plt.plot(X, Y)\n",
        "plt.show()"
      ],
      "metadata": {
        "id": "b_TQ0It_3zFO"
      },
      "execution_count": null,
      "outputs": []
    },
    {
      "cell_type": "markdown",
      "source": [
        "Below I use Python's standard library.  We create a list T with numbers from 0 to 99 (100 point curve).  We find the x coordinates by rescaling the valus in Y so that  x goes from 0 to 2$\\pi$, then we generate the y coordiantes. And then we do the plot."
      ],
      "metadata": {
        "id": "O1d30Gj17Ky4"
      }
    },
    {
      "cell_type": "code",
      "execution_count": null,
      "metadata": {
        "id": "rDNAZzv1xZuY"
      },
      "outputs": [],
      "source": [
        "import math as mt\n",
        "T=range(100)\n",
        "X=[(2*mt.pi*t)/len(T) for t in T]\n",
        "Y=[mt.sin(value)for value in X]\n",
        "plt.plot(X, Y)\n",
        "plt.show()"
      ]
    },
    {
      "cell_type": "markdown",
      "source": [
        "I could use Numpy to do the same thing. I do exactly that in the codeblock below. I use the function np.linspace to create a one-dimensional array witn N evenly spaced entries. You don't specify the spacing. The syntax is:\n",
        "\n",
        "np.linspace(start,end,num_steps)\n",
        "\n",
        "Python determines how to get from the start to the end in the specified number of steps.\n"
      ],
      "metadata": {
        "id": "UGvkr1Kf7wjp"
      }
    },
    {
      "cell_type": "code",
      "source": [
        "import numpy as np\n",
        "X= np.linspace(0, 2*np.pi, 100)\n",
        "Y=np.sin(X)\n",
        "plt.plot(X, Y)\n",
        "plt.show()"
      ],
      "metadata": {
        "id": "nDLohzdz78jS"
      },
      "execution_count": null,
      "outputs": []
    },
    {
      "cell_type": "markdown",
      "source": [
        "#Multiple Plots\n",
        "This time we'll do both sine and cosine. pyplot and numpy are already loaded, but we'll load them again anyway."
      ],
      "metadata": {
        "id": "bMUJjGjX9__D"
      }
    },
    {
      "cell_type": "code",
      "source": [
        "import matplotlib.pyplot as plt\n",
        "import numpy as np\n",
        "X= np.linspace(0, 2*np.pi, 100)\n",
        "Ya=np.sin(X)\n",
        "Yb=np.cos(X)\n",
        "plt.plot(X, Ya)\n",
        "plt.plot(X, Yb)\n",
        "plt.show()\n"
      ],
      "metadata": {
        "id": "28LYRwBA-Q7u"
      },
      "execution_count": null,
      "outputs": []
    },
    {
      "cell_type": "markdown",
      "source": [
        "#How to Download Plots\n",
        "\n",
        "Here, I'll show you the code that you need to download your plots to your computer. We'll use the same code as above and add the lines that enable the download."
      ],
      "metadata": {
        "id": "lFnhUMtU-4ZV"
      }
    },
    {
      "cell_type": "code",
      "source": [
        "import numpy as np\n",
        "import matplotlib.pyplot as plt\n",
        "X= np.linspace(0, 2*np.pi, 100)\n",
        "Ya=np.sin(X)\n",
        "Yb=np.cos(X)\n",
        "plt.plot(X, Ya)\n",
        "plt.plot(X, Yb)\n",
        "###The next three lines are specific to downloading an image from Google Colab\n",
        "from google.colab import files\n",
        "plt.savefig(\"sinecosine.png\")\n",
        "files.download(\"sinecosine.png\") \n",
        "###### These lines must appear before the plt.show() command\n",
        "plt.show()"
      ],
      "metadata": {
        "id": "BkyEziZG_QcN"
      },
      "execution_count": null,
      "outputs": []
    },
    {
      "cell_type": "markdown",
      "source": [
        "# Let's plot some bar charts.  \n",
        "pyplot is already avialble, but I'll load it again"
      ],
      "metadata": {
        "id": "GPmdnyXJAiif"
      }
    },
    {
      "cell_type": "code",
      "source": [
        "import matplotlib.pyplot as plt\n",
        "data= [5., 25., 50., 40.]\n",
        "plt.bar(range(len(data)), data) \n",
        "plt.show()"
      ],
      "metadata": {
        "id": "2pVKKU1WAvh_"
      },
      "execution_count": null,
      "outputs": []
    },
    {
      "cell_type": "markdown",
      "source": [
        "For each value there is one bar, we gave the bar function two arguments, the x coordinate of each bar and its height, here the coordinates used are 0, 1, 2 etc. which is the purpose of range(len(data)).  By default a bar will have a thickness of 0.8 units.  we can remove the gaps by setting the width equal to one."
      ],
      "metadata": {
        "id": "J1eOo0rCAxz0"
      }
    },
    {
      "cell_type": "code",
      "source": [
        "import matplotlib.pyplot as plt\n",
        "data= [5., 25., 50., 20.]\n",
        "plt.bar(range(len(data)), data, width=1.) \n",
        "plt.show()"
      ],
      "metadata": {
        "id": "R2RL8qEaBLkU"
      },
      "execution_count": null,
      "outputs": []
    },
    {
      "cell_type": "code",
      "source": [
        "import matplotlib.pyplot as plt\n",
        "data= [5., 25., 50., 20.]\n",
        "plt.bar(range(len(data)), data, width=.97) \n",
        "plt.show()"
      ],
      "metadata": {
        "id": "bbbwc7a6BTJm"
      },
      "execution_count": null,
      "outputs": []
    },
    {
      "cell_type": "markdown",
      "source": [
        "#Horizontal Bars"
      ],
      "metadata": {
        "id": "AnsWaYd5Bl_r"
      }
    },
    {
      "cell_type": "code",
      "source": [
        "import matplotlib.pyplot as plt\n",
        "data= [5., 25., 50., 20.]\n",
        "plt.barh(range(len(data)), data) \n",
        "plt.show()"
      ],
      "metadata": {
        "id": "AlO9T0HKBpIU"
      },
      "execution_count": null,
      "outputs": []
    },
    {
      "cell_type": "markdown",
      "source": [
        "#Stacked Bar Charts"
      ],
      "metadata": {
        "id": "BS19Pz0XB4xx"
      }
    },
    {
      "cell_type": "code",
      "source": [
        "import matplotlib.pyplot as plt\n",
        "A=[5., 30., 45., 22.]\n",
        "B= [5., 25., 50., 20.]\n",
        "\n",
        "X=range(4)\n",
        "\n",
        "plt.bar(X, A, color='b') \n",
        "plt.bar(X, B, color='r', bottom=A) \n",
        "plt.show()"
      ],
      "metadata": {
        "id": "HYnEJ3ppB8qL"
      },
      "execution_count": null,
      "outputs": []
    },
    {
      "cell_type": "markdown",
      "source": [
        "#Pie Charts"
      ],
      "metadata": {
        "id": "8rJO6GXiCYVq"
      }
    },
    {
      "cell_type": "code",
      "source": [
        "import matplotlib.pyplot as plt\n",
        "\n",
        "data= [5, 25, 50, 20, 30, 10]\n",
        "plt.pie(data)\n",
        "plt.show()"
      ],
      "metadata": {
        "id": "UGeZPT-_CbWz"
      },
      "execution_count": null,
      "outputs": []
    },
    {
      "cell_type": "markdown",
      "source": [
        "# Plotting Histograms\n",
        "\n",
        "we'll draw 1000 values from a normal distribution and generate a hisogram with 20 bins. Run it several times - it will change."
      ],
      "metadata": {
        "id": "e1p3ace6C2lm"
      }
    },
    {
      "cell_type": "code",
      "source": [
        "import numpy as np\n",
        "import matplotlib.pyplot as plt\n",
        "\n",
        "x=np.random.randn(1000)\n",
        "plt.hist(x, bins=20)\n",
        "\n",
        "plt.show()"
      ],
      "metadata": {
        "id": "CgIwlMTbDAQg"
      },
      "execution_count": null,
      "outputs": []
    },
    {
      "cell_type": "markdown",
      "source": [
        "#Labels, colors, etc.\n",
        "##Colors\n",
        "\n",
        "There are lots of ways of defining colors in matplotlib, I'm going to give you the simplest. Matplotlib will interpret standard HTML color names as an actual color. Some colors have an alias you can use instead, I will list these, color followed by alias - they aren't always obvious.\n",
        "\n",
        "Blue - b\n",
        "\n",
        "Green - g\n",
        "\n",
        "Red - r\n",
        "\n",
        "Cyan - c\n",
        "\n",
        "Magenta - m\n",
        "\n",
        "Yellow - y\n",
        "\n",
        "Black - k\n",
        "\n",
        "White - w\n",
        "\n",
        "matplotlib will interpret a string representation of a floating point value as a shade of gray, 0.75 is a medium gray.\n",
        "\n",
        "\n",
        "For those of you with some experience of this matplotlib will interpret HTML color strings as colors, these strins are defined as #RRGGBB where RR, GG, and BB are values for the red, green, and blue components in hexadcimal (8-bit values).  You will either understand the previous sentence or not.  I'm not giving an example of this.  Let's look at an example.\n"
      ],
      "metadata": {
        "id": "oo9ZF-dAD3b0"
      }
    },
    {
      "cell_type": "code",
      "source": [
        "import numpy as np\n",
        "import matplotlib.pyplot as plt\n",
        "def pdf (x, mu, sigma):\n",
        "  a=1. / (sigma*np.sqrt(2.*np.pi))\n",
        "  b=-1. / (2.*sigma**2)\n",
        "  return a * np.exp(b*(x-mu)**2)\n",
        "\n",
        "x=np.linspace(-6, 6, 1000)\n",
        "\n",
        "for i in range(5):\n",
        "  samples=np.random.standard_normal(50)\n",
        "  mu, sigma =np.mean(samples), np.std(samples)\n",
        "  plt.plot(x, pdf(x, mu, sigma), color = '.5')\n",
        "  plt.plot(x, pdf(x, 0., 1), color='y')\n",
        "  plt.show()"
      ],
      "metadata": {
        "id": "zR-GnrOaEopV"
      },
      "execution_count": null,
      "outputs": []
    },
    {
      "cell_type": "markdown",
      "source": [
        "##Titles"
      ],
      "metadata": {
        "id": "3RwtN6DeE__1"
      }
    },
    {
      "cell_type": "code",
      "source": [
        "import numpy as np\n",
        "import matplotlib.pyplot as plt\n",
        "\n",
        "x=np.linspace(-4, 4, 1024)\n",
        "y= .25*(x+4.)*(x+1.)*(x-2.)\n",
        "\n",
        "plt.title('A polynomial')\n",
        "plt.plot(x,y, c='b')"
      ],
      "metadata": {
        "id": "IchoADF4FWYn"
      },
      "execution_count": null,
      "outputs": []
    },
    {
      "cell_type": "markdown",
      "source": [
        "#LaTeX Titles"
      ],
      "metadata": {
        "id": "bpd3G4VlFgKD"
      }
    },
    {
      "cell_type": "code",
      "source": [
        "import numpy as np\n",
        "import matplotlib.pyplot as plt\n",
        "\n",
        "x=np.linspace(-4, 4, 1024)\n",
        "y= .25*(x+4.)*(x+1.)*(x-2.)\n",
        "\n",
        "plt.title('$f(x)=\\\\frac{1}{4}(x+4)(x+1)(x-2)$')\n",
        "plt.plot(x,y, c='m')"
      ],
      "metadata": {
        "id": "DgJbPWW2FjPM"
      },
      "execution_count": null,
      "outputs": []
    },
    {
      "cell_type": "markdown",
      "source": [
        "##Labeled axes with a title"
      ],
      "metadata": {
        "id": "vY9Bi-8FFskZ"
      }
    },
    {
      "cell_type": "code",
      "source": [
        "import numpy as np\n",
        "import matplotlib.pyplot as plt\n",
        "\n",
        "x=np.linspace(-4, 4, 1024)\n",
        "y= .25*(x+4.)*(x+1.)*(x-2.)\n",
        "\n",
        "plt.title('Power curve for airfoil')\n",
        "plt.xlabel ('Air Speed')\n",
        "plt.ylabel('Total drag')\n",
        "plt.plot(x,y, c='b')"
      ],
      "metadata": {
        "id": "p3MQZUMyF1sd"
      },
      "execution_count": null,
      "outputs": []
    },
    {
      "cell_type": "markdown",
      "source": [
        "##Labels on the plot"
      ],
      "metadata": {
        "id": "-crgfBusF_gW"
      }
    },
    {
      "cell_type": "code",
      "source": [
        "import numpy as np\n",
        "import matplotlib.pyplot as plt\n",
        "\n",
        "x=np.linspace(-4, 4, 1024)\n",
        "y= .25*(x+4.)*(x+1.)*(x-2.)\n",
        "\n",
        "plt.title('Power curve for airfoil')\n",
        "plt.xlabel ('Air Speed')\n",
        "plt.ylabel('Total drag')\n",
        "plt.text(0.5,0.25, 'Minimum')\n",
        "plt.text(-3.8,4., ' Local Maximum')\n",
        "#the numbers are x and y coordinates of where the label starts\n",
        "plt.plot(x,y, c='b')"
      ],
      "metadata": {
        "id": "TAuHqFp6GE23"
      },
      "execution_count": null,
      "outputs": []
    },
    {
      "cell_type": "markdown",
      "source": [
        "##Placing the text in boxes"
      ],
      "metadata": {
        "id": "k8YJlvZyGQft"
      }
    },
    {
      "cell_type": "code",
      "source": [
        "import numpy as np\n",
        "import matplotlib.pyplot as plt\n",
        "\n",
        "x=np.linspace(-4, 4, 1024)\n",
        "y= .25*(x+4.)*(x+1.)*(x-2.)\n",
        "\n",
        "plt.title('Power curve for airfoil')\n",
        "plt.xlabel ('Air Speed')\n",
        "plt.ylabel('Total drag')\n",
        "\n",
        "box = {\n",
        "    'facecolor': '0.95',\n",
        "    'edgecolor': 'r',\n",
        "    'boxstyle': 'round'\n",
        "}\n",
        "plt.text(0.5,0.25, 'Minimum', bbox=box) \n",
        "plt.text(-3.8,4., ' Local Maximum', bbox=box)\n",
        "#the numbers are x and y coordinates of where the label starts\n",
        "plt.plot(x,y, c='b')"
      ],
      "metadata": {
        "id": "3ee7g9ZBGX2T"
      },
      "execution_count": null,
      "outputs": []
    },
    {
      "cell_type": "markdown",
      "source": [
        "There is much, much more you can do, but this should be enough for now!\n",
        "\n",
        "If you need more, [here](https://matplotlib.org/stable/tutorials/introductory/pyplot.html) is the official tutorial"
      ],
      "metadata": {
        "id": "chuXxTbvGk-i"
      }
    },
    {
      "cell_type": "markdown",
      "source": [
        "#Now we'll look at plotting from pandas - starting with a way to load a .csv file into Colab\n",
        "\n",
        "Pandas implements commands that are wrappers containing matplotlib commands.  One limitation of pandas is that the documentation usually lags behind what the preferred usage in the package. This is where I begin adapting [Plot With Pandas: Python Data Visualization for Beginners by Reka Horvath](https://realpython.com/pandas-plot-python/#create-your-first-pandas-plot) into Colab.  I've eliminated some of her explanations, and some of her content.\n",
        "\n",
        "The advantage of this version is that you can change the code and see what happens!"
      ],
      "metadata": {
        "id": "K_yrmUVAG6Az"
      }
    },
    {
      "cell_type": "code",
      "source": [
        "import pandas as pd\n",
        "\n",
        "download_url = (\"https://raw.githubusercontent.com/fivethirtyeight/data/master/college-majors/recent-grads.csv\" )\n",
        "\n",
        "df = pd.read_csv(download_url)\n",
        "\n",
        "type(df)"
      ],
      "metadata": {
        "id": "e42Yh3_MHL6G"
      },
      "execution_count": null,
      "outputs": []
    },
    {
      "cell_type": "markdown",
      "source": [
        "In the above, by calling read_csv(), we create a DataFrame, which is the main data structure used in pandas. I then used the type function to tell me about the object that I downloaded."
      ],
      "metadata": {
        "id": "iJ02O3HsHjhR"
      }
    },
    {
      "cell_type": "code",
      "source": [
        "df.head()"
      ],
      "metadata": {
        "id": "2aG6vgrUH0wb"
      },
      "execution_count": null,
      "outputs": []
    },
    {
      "cell_type": "markdown",
      "source": [
        "Now try this, it makes no difference this time, but it prevents pandas from losing columns."
      ],
      "metadata": {
        "id": "ljFUF0skIHNG"
      }
    },
    {
      "cell_type": "code",
      "source": [
        "pd.set_option(\"display.max.columns\", None)\n",
        "df.head()"
      ],
      "metadata": {
        "id": "vnhDZVJ_IJ2c"
      },
      "execution_count": null,
      "outputs": []
    },
    {
      "cell_type": "markdown",
      "source": [
        "Here's a plot, .plot() returns a line graph containing data from every row in the DataFrame. The x-axis values represent the rank of each institution, and the \"P25th\", \"Median\", and \"P75th\" values are plotted on the y-axis."
      ],
      "metadata": {
        "id": "TH0PBToeIlC2"
      }
    },
    {
      "cell_type": "code",
      "source": [
        "df.plot(x=\"Rank\", y=[\"P25th\", \"Median\", \"P75th\"])"
      ],
      "metadata": {
        "id": "gKVzAHD8IrT4"
      },
      "execution_count": null,
      "outputs": []
    },
    {
      "cell_type": "markdown",
      "source": [
        "Looking at the plot, you can make the following observations:\n",
        "\n",
        "The median income decreases as rank decreases. This is expected because the rank is determined by the median income.\n",
        "\n",
        "Some majors have large gaps between the 25th and 75th percentiles. People with these degrees may earn significantly less or significantly more than the median income.\n",
        "\n",
        "Other majors have very small gaps between the 25th and 75th percentiles. People with these degrees earn salaries very close to the median income.\n",
        "\n",
        "This plot already hints that there’s a lot more to discover in the data! Some majors have a wide range of earnings, and others have a rather narrow range. To discover these differences, you could several other types of plots."
      ],
      "metadata": {
        "id": "FgzPOVouJJbV"
      }
    },
    {
      "cell_type": "markdown",
      "source": [
        "Properties of the plot()\n",
        ".plot() has several optional parameters. Most notably, the kind parameter accepts eleven different string values and determines which kind of plot you’ll create:\n",
        "\n",
        "\"area\" is for area plots. \"bar\" is for vertical bar charts. \"barh\" is for horizontal bar charts. \"box\" is for box plots. \"hexbin\" is for hexbin plots. \"hist\" is for histograms. \"kde\" is for kernel density estimate charts. \"density\" is an alias for \"kde\". \"line\" is for line graphs. \"pie\" is for pie charts. \"scatter\" is for scatter plots.\n",
        "\n",
        "The default value is \"line\". Line graphs, like the one created above, provide a good overview of your data. You can use them to detect general trends. They rarely provide sophisticated insight, but they can give you clues as to where to zoom in.\n",
        "\n",
        "If you don’t provide a parameter to .plot(), then it creates a line plot with the index on the x-axis and all the numeric columns on the y-axis.\n",
        "\n",
        "As an alternative to passing strings to the kind parameter of .plot(), DataFrame objects have several methods that you can use to create the various kinds of plots described above:\n",
        "\n",
        ".area() .bar() .barh() .box() .hexbin() .hist() .kde() .density() .line() .pie() .scatter()\n",
        "\n",
        "When you call .plot() on a DataFrame object, Matplotlib creates the plot under the hood.\n",
        "\n",
        "To illustrate this, first, create a plot with Matplotlib using two columns of your DataFrame:"
      ],
      "metadata": {
        "id": "lTtmun3VJqVM"
      }
    },
    {
      "cell_type": "code",
      "source": [
        "import matplotlib.pyplot as plt\n",
        "\n",
        "plt.plot(df[\"Rank\"], df[\"P75th\"])"
      ],
      "metadata": {
        "id": "Vd4XIva2J8LX"
      },
      "execution_count": null,
      "outputs": []
    },
    {
      "cell_type": "markdown",
      "source": [
        "We can create exactly the same graph using the DataFrame object’s .plot() method, .plot() is a wrapper for pyplot.plot(), and the result is a graph identical to the one you produced with Matplotlib.\n",
        "\n",
        "You can use both pyplot.plot() and df.plot() to produce the same graph from columns of a DataFrame object. However, if you already have a DataFrame instance, then df.plot() offers cleaner syntax than pyplot.plot()."
      ],
      "metadata": {
        "id": "vVA-ciJAKEDP"
      }
    },
    {
      "cell_type": "code",
      "source": [
        "df.plot(x=\"Rank\", y=\"P75th\")"
      ],
      "metadata": {
        "id": "JG9VdRvPKWio"
      },
      "execution_count": null,
      "outputs": []
    },
    {
      "cell_type": "markdown",
      "source": [
        "# Using your plots explore datasets\n",
        "\n",
        "Next we'll get  a general overview of a specific column of your dataset. First, we’ll have a look at the distribution of a property with a histogram. Then we’ll intoduce some tools to examine the outliers.\n",
        "\n",
        "##Distributions and Histograms\n",
        "DataFrame is not the only class in pandas with a .plot() method. The Series object provides similar functionality.\n",
        "\n",
        "You can get each column of a DataFrame as a Series object. Here’s an example using the \"Median\" column of the DataFrame created from the college major data"
      ],
      "metadata": {
        "id": "86A2kRhJKx9H"
      }
    },
    {
      "cell_type": "code",
      "source": [
        "median_column = df[\"Median\"]\n",
        "type(median_column)"
      ],
      "metadata": {
        "colab": {
          "base_uri": "https://localhost:8080/"
        },
        "id": "1dnQvj1QLCYA",
        "outputId": "802666a8-5e14-4f7d-ba2f-b98d16f76aa0"
      },
      "execution_count": null,
      "outputs": [
        {
          "output_type": "execute_result",
          "data": {
            "text/plain": [
              "pandas.core.series.Series"
            ]
          },
          "metadata": {},
          "execution_count": 47
        }
      ]
    },
    {
      "cell_type": "markdown",
      "source": [
        "Now that you have a Series object, you can create a plot for it. A histogram is a good way to visualize how values are distributed across a dataset. Histograms group values into bins and display a count of the data points whose values are in a particular bin.\n",
        "\n",
        "To plot  a histogram for the \"Median\" column, you call .plot() on the median_column Series and pass the string \"hist\" to the kind parameter. \n",
        "\n",
        "The histogram shows the data grouped into ten bins ranging from $20,000 to $120,000, and each bin has a width of $10,000. The histogram has a different shape than the normal distribution which we used to introduce the historgram, the normal distribution has a symmetric bell shape with a peak in the middle."
      ],
      "metadata": {
        "id": "XqSyeYKnLI6Y"
      }
    },
    {
      "cell_type": "code",
      "source": [
        "median_column.plot(kind=\"hist\")"
      ],
      "metadata": {
        "id": "gFyWJkIGLcRO"
      },
      "execution_count": null,
      "outputs": []
    },
    {
      "cell_type": "markdown",
      "source": [
        "\n",
        "Outliers\n",
        "There is an outlier, a bin on the right edge of the distribution. It seems that one data point has its own category. The majors in this field get an excellent salary compared not only to the average but also to the runner-up. Although this isn’t its main purpose, a histogram can help you to detect such an outlier. Let’s investigate the outlier a bit more.\n",
        "\n",
        "Which majors does this outlier represent? How big is its edge? Contrary to the first overview, you only want to compare a few data points, but you want to see more details about them. For this, a bar plot is an excellent tool. First, select the five majors with the highest median earnings. You’ll need two steps:\n",
        "\n",
        "To sort by the \"Median\" column, use .sort_values() and provide the name of the column you want to sort by as well as the direction ascending=False.\n",
        "\n",
        "To get the top five items of your list, use .head()\n",
        "\n",
        "We'll create a dataframe called top_5"
      ],
      "metadata": {
        "id": "9oOf91XWLlha"
      }
    },
    {
      "cell_type": "code",
      "source": [
        "top_5 = df.sort_values(by=\"Median\", ascending=False).head()"
      ],
      "metadata": {
        "id": "7c8ZPENvL5Ay"
      },
      "execution_count": null,
      "outputs": []
    },
    {
      "cell_type": "markdown",
      "source": [
        "As a next step we create a bar plot that shows only the majors with these top five median salaries."
      ],
      "metadata": {
        "id": "JNdBN8-TMA6I"
      }
    },
    {
      "cell_type": "code",
      "source": [
        "top_5.plot(x=\"Major\", y=\"Median\", kind=\"bar\", rot=80, fontsize=10)"
      ],
      "metadata": {
        "id": "RCqZoZTNMIvX"
      },
      "execution_count": null,
      "outputs": []
    },
    {
      "cell_type": "markdown",
      "source": [
        "This plot shows that the median salary of petroleum engineering majors is more than $20,000 higher than the rest. The earnings for the second- through fourth-place majors are relatively close to one another.\n",
        "\n",
        "If you have a data point with a much higher or lower value than the rest, then you’ll probably want to investigate a bit further. For example, you can look at the columns that contain related data.\n",
        "\n",
        "Let’s investigate all majors whose median salary is above $60,000. First, you need to filter these majors with the mask df[df[\"Median\"] > 60000]. Then you can create another bar plot showing all three earnings columns"
      ],
      "metadata": {
        "id": "aGN24TFnM7ta"
      }
    },
    {
      "cell_type": "code",
      "source": [
        "top_medians = df[df[\"Median\"] > 60000].sort_values(\"Median\")\n",
        "top_medians.plot(x=\"Major\", y=[\"P25th\", \"Median\", \"P75th\"], kind=\"bar\")"
      ],
      "metadata": {
        "id": "y8dthxK_NFuw"
      },
      "execution_count": null,
      "outputs": []
    },
    {
      "cell_type": "markdown",
      "source": [
        "##Investigating outliers is an important step in data cleaning."
      ],
      "metadata": {
        "id": "sMdNkLNCNV2x"
      }
    },
    {
      "cell_type": "markdown",
      "source": [
        "##Check for correlation\n",
        "\n",
        "Often you want to see whether two columns of a dataset are connected. If you pick a major with higher median earnings, do you also have a lower chance of unemployment? As a first step, create a scatter plot with those two columns."
      ],
      "metadata": {
        "id": "k75EWkahNiVs"
      }
    },
    {
      "cell_type": "code",
      "source": [
        "df.plot(x=\"Median\", y=\"Unemployment_rate\", kind=\"scatter\")"
      ],
      "metadata": {
        "id": "6bPaqXUbNwP5"
      },
      "execution_count": null,
      "outputs": []
    },
    {
      "cell_type": "markdown",
      "source": [
        "A quick glance at this figure shows that there’s no significant correlation between the earnings and unemployment rate.\n",
        "\n",
        "A scatter plot is an excellent tool for getting a first impression about possible correlation, but it certainly isn’t definitive proof of a connection. For an overview of the correlations between different columns, you can use .corr(). If you suspect a correlation between two values, then you have several tools at your disposal to verify your hunch and measure how strong the correlation is.\n",
        "\n",
        "Keep in mind, though, that even if a correlation exists between two values, it still doesn’t mean that a change in one would result in a change in the other. In other words, correlation does not imply causation."
      ],
      "metadata": {
        "id": "EFApsD5cN-C5"
      }
    },
    {
      "cell_type": "markdown",
      "source": [
        "#Analyze Categorical Data\n",
        "\n",
        "\n",
        "Many datasets contain some explicit or implicit categorization. In the current example, the 173 majors are divided into 16 categories.\n",
        "\n",
        "##Grouping\n",
        "A basic usage of categories is grouping and aggregation. You can use .groupby() to determine how popular each of the categories in the college major dataset are."
      ],
      "metadata": {
        "id": "kmeoOWvsPUtp"
      }
    },
    {
      "cell_type": "code",
      "source": [
        "cat_totals = df.groupby(\"Major_category\")[\"Total\"].sum().sort_values()\n",
        "cat_totals"
      ],
      "metadata": {
        "id": "jIveeNxPPrbw"
      },
      "execution_count": null,
      "outputs": []
    },
    {
      "cell_type": "markdown",
      "source": [
        "With .groupby(), you create a DataFrameGroupBy object. With .sum(), you create a Series.\n",
        "\n",
        "We'll draw a horizontal bar plot showing all the category totals in cat_totals"
      ],
      "metadata": {
        "id": "9lEiK3jnP_C0"
      }
    },
    {
      "cell_type": "code",
      "source": [
        "cat_totals.plot(kind=\"barh\", fontsize=10)"
      ],
      "metadata": {
        "id": "q8Pp3rbmPrMH"
      },
      "execution_count": null,
      "outputs": []
    },
    {
      "cell_type": "markdown",
      "source": [
        "##Determining Ratios\n",
        "Vertical and horizontal bar charts are often a good choice if you want to see the difference between your categories. If you’re interested in ratios, then pie plots are an excellent tool. However, since cat_totals contains a few smaller categories, creating a pie plot with cat_totals.plot(kind=\"pie\") will produce several tiny slices with overlapping labels .\n",
        "\n",
        "To address this problem, you can lump the smaller categories into a single group. Merge all categories with a total under 100,000 into a category called \"Other\", then create a pie plot. Notice that we include the argument label=\"\". By default, pandas adds a label with the column name. That often makes sense, but in this case it would only add noise."
      ],
      "metadata": {
        "id": "MUuCIlkBQaH0"
      }
    },
    {
      "cell_type": "code",
      "source": [
        "small_cat_totals = cat_totals[cat_totals < 100_000]\n",
        "big_cat_totals = cat_totals[cat_totals > 100_000]\n",
        "# Adding a new item \"Other\" with the sum of the small categories\n",
        "small_sums = pd.Series([small_cat_totals.sum()], index=[\"Other\"])\n",
        "big_cat_totals = big_cat_totals.append(small_sums)\n",
        "big_cat_totals.plot(kind=\"pie\", label=\"\")"
      ],
      "metadata": {
        "id": "c3VFUhTkQrYV"
      },
      "execution_count": null,
      "outputs": []
    },
    {
      "cell_type": "markdown",
      "source": [
        "#Zooming in on Categories\n",
        "Sometimes we also want to verify whether a certain categorization makes sense. Are the members of a category more similar to one other than they are to the rest of the dataset? Again, a distribution is a good tool to get a first overview. Generally, we expect the distribution of a category to be similar to the normal distribution but have a smaller range.\n",
        "\n",
        "Let's create a histogram plot showing the distribution of the median earnings for the engineering majors. We get a histogram that you can compare to the histogram of all majors from the beginning. The range of the major median earnings is somewhat smaller, starting at $40,000. The distribution is closer to normal, although its peak is still on the left. So, even if you’ve decided to pick a major in the engineering category, it would be wise to dive deeper and analyze your options more thoroughly."
      ],
      "metadata": {
        "id": "hapzM9WjRPm7"
      }
    },
    {
      "cell_type": "code",
      "source": [
        "df[df[\"Major_category\"] == \"Engineering\"][\"Median\"].plot(kind=\"hist\")"
      ],
      "metadata": {
        "id": "oW665ZAFRqWI"
      },
      "execution_count": null,
      "outputs": []
    }
  ]
}